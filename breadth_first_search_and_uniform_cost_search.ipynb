{
  "nbformat": 4,
  "nbformat_minor": 0,
  "metadata": {
    "colab": {
      "provenance": [],
      "authorship_tag": "ABX9TyOUhf2VyA9bwujnEcjg3AuI",
      "include_colab_link": true
    },
    "kernelspec": {
      "name": "python3",
      "display_name": "Python 3"
    },
    "language_info": {
      "name": "python"
    }
  },
  "cells": [
    {
      "cell_type": "markdown",
      "metadata": {
        "id": "view-in-github",
        "colab_type": "text"
      },
      "source": [
        "<a href=\"https://colab.research.google.com/github/ahmerayaz2000/artificial-intelligence/blob/main/breadth_first_search_and_uniform_cost_search.ipynb\" target=\"_parent\"><img src=\"https://colab.research.google.com/assets/colab-badge.svg\" alt=\"Open In Colab\"/></a>"
      ]
    },
    {
      "cell_type": "code",
      "execution_count": 5,
      "metadata": {
        "id": "kSJo7XAxTndc"
      },
      "outputs": [],
      "source": []
    },
    {
      "cell_type": "code",
      "source": [],
      "metadata": {
        "colab": {
          "base_uri": "https://localhost:8080/"
        },
        "id": "6wag-JQJToeZ",
        "outputId": "67967ff3-88cf-49b5-e530-5d680fd21f2b"
      },
      "execution_count": 32,
      "outputs": [
        {
          "output_type": "stream",
          "name": "stdout",
          "text": [
            "UCS Path: ['New York', 'Los Angeles', 'California', 'Houston', 'Boston', 'San Francisco'], UCS Cost: 17\n"
          ]
        }
      ]
    },
    {
      "cell_type": "markdown",
      "source": [
        "# **bfs** and **ucf**"
      ],
      "metadata": {
        "id": "9jbLWxUDg1ah"
      }
    },
    {
      "cell_type": "markdown",
      "source": [
        "**bold text**"
      ],
      "metadata": {
        "id": "e0ZcDo_8g2qY"
      }
    },
    {
      "cell_type": "code",
      "source": [
        "import heapq\n",
        "from collections import deque\n",
        "\n",
        "# Corrected graph structure with the necessary connections and consistent city names\n",
        "graph = {\n",
        "    'New York': [('Los Angeles', 2)],  # Connections from New York\n",
        "    'Boston': [('Houston', 1), ('San Francisco', 4)],  # Connections from Boston\n",
        "    'Houston': [('California', 6), ('Los Angeles', 18), ('Boston', 1)],  # Correct connections from Houston\n",
        "    'Los Angeles': [('California', 4), ('New York', 2), ('Houston', 18)],  # Reduced cost from LA to California\n",
        "    'California': [('Houston', 6), ('Los Angeles', 4)]  # Corrected connection from California to SF\n",
        "}\n",
        "\n",
        "# UCS Algorithm Implementation\n",
        "def ucs(graph, start, goal):\n",
        "    # Priority queue to store the frontier in the form of (cost, current_node, path)\n",
        "    priority_queue = [(0, start, [start])]  # (cost, node, path)\n",
        "    explored = set()\n",
        "\n",
        "    while priority_queue:\n",
        "        # Pop the node with the lowest cost\n",
        "        cost, current_node, path = heapq.heappop(priority_queue)\n",
        "\n",
        "        # If the goal node is reached, return the path and the cost\n",
        "        if current_node == goal:\n",
        "            return path, cost\n",
        "\n",
        "        # If the current node has already been explored, skip it\n",
        "        if current_node in explored:\n",
        "            continue\n",
        "\n",
        "        # Mark the current node as explored\n",
        "        explored.add(current_node)\n",
        "\n",
        "        # Explore neighbors\n",
        "        for neighbor, weight in graph.get(current_node, []):\n",
        "            if neighbor not in explored:\n",
        "                # Add neighbor to the priority queue with cumulative cost\n",
        "                heapq.heappush(priority_queue, (cost + weight, neighbor, path + [neighbor]))\n",
        "\n",
        "    # If no path is found\n",
        "    return None, float('inf')\n",
        "\n",
        "# BFS Algorithm Implementation\n",
        "def bfs(graph, start, goal):\n",
        "    # Queue to store the frontier in the form of (current_node, path)\n",
        "    queue = deque([(start, [start])])  # (node, path)\n",
        "    explored = set()\n",
        "\n",
        "    while queue:\n",
        "        # Pop the first node in the queue\n",
        "        current_node, path = queue.popleft()\n",
        "\n",
        "        # If the goal node is reached, return the path\n",
        "        if current_node == goal:\n",
        "            return path\n",
        "\n",
        "        # If the current node has already been explored, skip it\n",
        "        if current_node in explored:\n",
        "            continue\n",
        "\n",
        "        # Mark the current node as explored\n",
        "        explored.add(current_node)\n",
        "\n",
        "        # Explore neighbors\n",
        "        for neighbor, _ in graph.get(current_node, []):\n",
        "            if neighbor not in explored:\n",
        "                # Add neighbor to the queue with the updated path\n",
        "                queue.append((neighbor, path + [neighbor]))\n",
        "\n",
        "    # If no path is found\n",
        "    return None\n",
        "\n",
        "# Problem setup\n",
        "start_node = 'New York'\n",
        "goal_node = 'San Francisco'\n",
        "\n",
        "# UCS result\n",
        "ucs_path, ucs_cost = ucs(graph, start_node, goal_node)\n",
        "print(f\"UCS Path: {ucs_path}, UCS Cost: {ucs_cost}\")\n",
        "\n",
        "# BFS result\n",
        "bfs_path = bfs(graph, start_node, goal_node)\n",
        "print(f\"BFS Path: {bfs_path}\")\n"
      ],
      "metadata": {
        "colab": {
          "base_uri": "https://localhost:8080/"
        },
        "id": "Y_SyqQ0GgpjS",
        "outputId": "bcd99165-db54-42fe-9f13-cd01c77f262c"
      },
      "execution_count": 35,
      "outputs": [
        {
          "output_type": "stream",
          "name": "stdout",
          "text": [
            "UCS Path: ['New York', 'Los Angeles', 'California', 'Houston', 'Boston', 'San Francisco'], UCS Cost: 17\n",
            "BFS Path: ['New York', 'Los Angeles', 'Houston', 'Boston', 'San Francisco']\n"
          ]
        }
      ]
    }
  ]
}